{
  "nbformat": 4,
  "nbformat_minor": 0,
  "metadata": {
    "colab": {
      "provenance": [],
      "mount_file_id": "1Ds5PTI-gjGlG1DRxjETgq5w_mdAfZA1C",
      "authorship_tag": "ABX9TyP7TM8lvtcs6Zut/rXxCILP",
      "include_colab_link": true
    },
    "kernelspec": {
      "name": "python3",
      "display_name": "Python 3"
    },
    "language_info": {
      "name": "python"
    }
  },
  "cells": [
    {
      "cell_type": "markdown",
      "metadata": {
        "id": "view-in-github",
        "colab_type": "text"
      },
      "source": [
        "<a href=\"https://colab.research.google.com/github/Harshitamishraz8/task/blob/main/Wine_Quality_Prediction.ipynb\" target=\"_parent\"><img src=\"https://colab.research.google.com/assets/colab-badge.svg\" alt=\"Open In Colab\"/></a>"
      ]
    },
    {
      "cell_type": "markdown",
      "source": [
        "**Importing Libraries**"
      ],
      "metadata": {
        "id": "g1UKBwFEmcv7"
      }
    },
    {
      "cell_type": "code",
      "execution_count": null,
      "metadata": {
        "id": "Mp_Zgda1mY0j"
      },
      "outputs": [],
      "source": [
        "# Import necessary libraries for data manipulation, model building, and visualization\n",
        "import pandas as pd\n",
        "import numpy as np\n",
        "from sklearn.model_selection import train_test_split, GridSearchCV\n",
        "from sklearn.ensemble import RandomForestClassifier\n",
        "from sklearn.svm import SVC\n",
        "from sklearn.linear_model import SGDClassifier\n",
        "from sklearn.metrics import accuracy_score, confusion_matrix\n",
        "import seaborn as sns\n",
        "import matplotlib.pyplot as plt\n"
      ]
    },
    {
      "cell_type": "markdown",
      "source": [
        "Loading and Preprocessing the Data"
      ],
      "metadata": {
        "id": "6gNecfszmZc5"
      }
    },
    {
      "cell_type": "code",
      "source": [
        "# Load the dataset into a Pandas DataFrame\n",
        "df = pd.read_csv('/content/drive/MyDrive/WineQT.csv')\n",
        "\n",
        "# Separate features (X) and target variable (y)\n",
        "X = df.drop(columns=['quality', 'Id'])  # Drop 'quality' and 'Id' columns for features\n",
        "y = df['quality']  # 'quality' is the target variable\n"
      ],
      "metadata": {
        "id": "jLLcnS7nmmso"
      },
      "execution_count": null,
      "outputs": []
    },
    {
      "cell_type": "markdown",
      "source": [
        "Train-Test Split"
      ],
      "metadata": {
        "id": "diEm0wYWnvzO"
      }
    },
    {
      "cell_type": "code",
      "source": [
        "# Split the data into training and testing sets (80% training, 20% testing)\n",
        "X_train, X_test, y_train, y_test = train_test_split(X, y, test_size=0.2, random_state=42)\n",
        "\n",
        "# Check the shape of the training and testing sets\n",
        "print(\"Training set shape:\", X_train.shape, y_train.shape)\n",
        "print(\"Testing set shape:\", X_test.shape, y_test.shape)\n"
      ],
      "metadata": {
        "colab": {
          "base_uri": "https://localhost:8080/"
        },
        "id": "qLOOdcimnxg4",
        "outputId": "923c24cf-781f-48dd-c0b8-8a563d606d55"
      },
      "execution_count": null,
      "outputs": [
        {
          "output_type": "stream",
          "name": "stdout",
          "text": [
            "Training set shape: (914, 11) (914,)\n",
            "Testing set shape: (229, 11) (229,)\n"
          ]
        }
      ]
    },
    {
      "cell_type": "markdown",
      "source": [
        "**Building and Training the Models**\n",
        "\n",
        "Random Forest Classifier"
      ],
      "metadata": {
        "id": "AiOd_Mx1n2jj"
      }
    },
    {
      "cell_type": "code",
      "source": [
        "# Initialize the Random Forest Classifier\n",
        "rf = RandomForestClassifier(random_state=42)\n",
        "\n",
        "# Train the model using the training data\n",
        "rf.fit(X_train, y_train)\n",
        "\n",
        "# Predict the quality on the test data\n",
        "y_pred_rf = rf.predict(X_test)\n",
        "\n",
        "# Calculate the accuracy of the Random Forest model\n",
        "rf_accurac = accuracy_score(y_test, y_pred_rf)\n",
        "print(f\"Random Forest Accuracy: {rf_accuracy}\")\n"
      ],
      "metadata": {
        "colab": {
          "base_uri": "https://localhost:8080/"
        },
        "id": "zTFyo8UBn4qd",
        "outputId": "b9d6b1a1-f4a7-4f42-ecef-9ef602d36175"
      },
      "execution_count": null,
      "outputs": [
        {
          "output_type": "stream",
          "name": "stdout",
          "text": [
            "Random Forest Accuracy: 0.7030567685589519\n"
          ]
        }
      ]
    },
    {
      "cell_type": "markdown",
      "source": [
        "Stochastic Gradient Descent (SGD) Classifier"
      ],
      "metadata": {
        "id": "E_BUEsd9n8XJ"
      }
    },
    {
      "cell_type": "code",
      "source": [
        "# Initialize the SGD Classifier\n",
        "sgd = SGDClassifier(random_state=42)\n",
        "\n",
        "# Train the model using the training data\n",
        "sgd.fit(X_train, y_train)\n",
        "\n",
        "# Predict the quality on the test data\n",
        "y_pred_sgd = sgd.predict(X_test)\n",
        "\n",
        "# Calculate the accuracy of the SGD model\n",
        "sgd_accuracy = accuracy_score(y_test, y_pred_sgd)\n",
        "print(f\"SGD Accuracy: {sgd_accuracy}\")\n"
      ],
      "metadata": {
        "colab": {
          "base_uri": "https://localhost:8080/"
        },
        "id": "KSbQbiIgn_NV",
        "outputId": "c6a3d397-4f3b-4f69-9ae4-29cefb498d93"
      },
      "execution_count": null,
      "outputs": [
        {
          "output_type": "stream",
          "name": "stdout",
          "text": [
            "SGD Accuracy: 0.4585152838427948\n"
          ]
        }
      ]
    },
    {
      "cell_type": "markdown",
      "source": [
        "Support Vector Classifier (SVC)"
      ],
      "metadata": {
        "id": "i-EQcZLmoAz-"
      }
    },
    {
      "cell_type": "code",
      "source": [
        "# Initialize the Support Vector Classifier (SVC)\n",
        "svc = SVC(random_state=42)\n",
        "\n",
        "# Train the model using the training data\n",
        "svc.fit(X_train, y_train)\n",
        "\n",
        "# Predict the quality on the test data\n",
        "y_pred_svc = svc.predict(X_test)\n",
        "\n",
        "# Calculate the accuracy of the SVC model\n",
        "svc_accuracy = accuracy_score(y_test, y_pred_svc)\n",
        "print(f\"SVC Accuracy: {svc_accuracy}\")\n"
      ],
      "metadata": {
        "colab": {
          "base_uri": "https://localhost:8080/"
        },
        "id": "IL3YIvcgoDLK",
        "outputId": "a6f4db85-742a-4e34-f26f-803d6c7fb731"
      },
      "execution_count": null,
      "outputs": [
        {
          "output_type": "stream",
          "name": "stdout",
          "text": [
            "SVC Accuracy: 0.5633187772925764\n"
          ]
        }
      ]
    },
    {
      "cell_type": "markdown",
      "source": [
        "**Evaluating the Models**"
      ],
      "metadata": {
        "id": "nTf13d5toF-Z"
      }
    },
    {
      "cell_type": "code",
      "source": [
        "# Generate a confusion matrix for the Random Forest model\n",
        "conf_matrix_rf = confusion_matrix(y_test, y_pred_rf)\n",
        "\n",
        "# Visualize the confusion matrix using a heatmap\n",
        "sns.heatmap(conf_matrix_rf, annot=True, fmt='d', cmap='Blues')\n",
        "plt.title('Confusion Matrix for Random Forest')\n",
        "plt.xlabel('Predicted')\n",
        "plt.ylabel('Actual')\n",
        "plt.show()\n"
      ],
      "metadata": {
        "colab": {
          "base_uri": "https://localhost:8080/",
          "height": 472
        },
        "id": "7fmYELX_oFar",
        "outputId": "f310a562-d5c4-46c8-fb73-0a187a8213f9"
      },
      "execution_count": null,
      "outputs": [
        {
          "output_type": "display_data",
          "data": {
            "text/plain": [
              "<Figure size 640x480 with 2 Axes>"
            ],
            "image/png": "[encoded data removed]"
          },
          "metadata": {}
        }
      ]
    },
    {
      "cell_type": "markdown",
      "source": [
        "*** Summary of Model Performance***"
      ],
      "metadata": {
        "id": "rsmXp9IUoWqc"
      }
    },
    {
      "cell_type": "code",
      "source": [
        "# Print summary of model accuracies\n",
        "print(\"Summary of Model Accuracies:\")\n",
        "print(f\"Random Forest: {rf_accuracy}\")\n",
        "print(f\"SGD Classifier: {sgd_accuracy}\")\n",
        "print(f\"SVC: {svc_accuracy}\")\n"
      ],
      "metadata": {
        "id": "6ADUsArQoY-3",
        "outputId": "75490e24-cba9-4d7d-d134-f8ab5fbd39d6",
        "colab": {
          "base_uri": "https://localhost:8080/"
        }
      },
      "execution_count": null,
      "outputs": [
        {
          "output_type": "stream",
          "name": "stdout",
          "text": [
            "Summary of Model Accuracies:\n",
            "Random Forest: 0.7030567685589519\n",
            "SGD Classifier: 0.4585152838427948\n",
            "SVC: 0.5633187772925764\n"
          ]
        }
      ]
    }
  ]
}